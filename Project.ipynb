{
 "cells": [
  {
   "cell_type": "markdown",
   "metadata": {},
   "source": [
    "# Readme\n",
    "\n",
    "logon_info.csv (~850k records)\n",
    "* Fields: id, date, user, pc, activity (Logon/Logoff)\n",
    "* Logoff requires preceding logon\n",
    "* Each user has an assigned machine, but can share others\n",
    "* 100 machines shared (physically shared) by some of the users in addition to their assigned PC. \n",
    "* Some logons occur after-hours \n",
    "*Note: Screen unlocks are recorded as logons. Screen locks are not recorded.\n",
    "* 12 of the users are IT administrators\n",
    "\n",
    "device_info.csv (~66k records)\n",
    "* Fields: id, date, user, pc, activity (connect/disconnect)\n",
    "* Some users use a portable zip drive\n",
    "* Some connect(s) may be missing disconnect(s), since machine may be turned off without a proper disconnect. \n",
    "\n",
    "\n",
    "Employees_info Folder\n",
    "* 18 Employee files (~1k records each file)\n",
    "  - Fields: employee_name, user_id, email, domain, role\n",
    "  - Record of who is employed at the end of the month \n",
    "\n",
    "HTTP_info.csv (~3.5M records)\n",
    "* Fields: id, date, user, pc, url\n",
    "* Up to 15 URLs visited daily between daily logon and daily logoff\n",
    "* Up to 5 URLs visited daily after-hours\n",
    "\n",
    "\n",
    "Additional Note:\n",
    "Field ids are unique within a .csv file but are not necessarily unique across all files.\n"
   ]
  },
  {
   "cell_type": "markdown",
   "metadata": {},
   "source": [
    "# Notes\n",
    "\n",
    "Please read the README file before starting any analysis\n",
    "\n",
    "\n",
    "Goals:\n",
    "Make sure data is readable \n",
    "\t\t\t- Check that pc id is the same file to file\n",
    "\t\t\t- Rename indices/column names with easier identifiers\n",
    "\t\t\t- Take characters and turn them into unique identifiers\n",
    "\t\t\t\t- i.e. user id = 1, logon times = 2, etc.\n",
    "\n",
    "\n",
    "Find various summaries \n",
    "\t- Focus on summaries not models\n",
    "\t- Maybe start looking at traffic densities\n",
    "\t\t- i.e. Logon times, computer usage, etc.\n",
    "\t\t- We can discuss what to look at together\t\n",
    "\n",
    "\n",
    "Comprehend the summaries\n",
    "\t- Look for patterns, anomalies, or anything interesting from the data\n",
    "\t- Question the summaries\n",
    "\t- This will help us figure out what the research objective will be\n",
    "\n",
    "\n",
    "Start thinking about models\n",
    "\t- This is when we can start looking at models \n",
    "\t- Apply questions from summaries to an analysis\n",
    "\n",
    "\n",
    "=======================================================================\n",
    "\n",
    "9/20/17\n",
    "====\n",
    "Some topics that we can research\n",
    "device_info\n",
    "1. What time do they usually connect?\n",
    "2. Which user connect more frequently?\n",
    "3. Which PC is used more frequently?\n",
    "4. Are there some users who is prefer to use specific PC?\n",
    "5. Are there some users who often turns off the PC without disconnection?\n",
    "6. How long is the connection duration?\n",
    "\n",
    "\n",
    "logon_info\n",
    "Any questions about connection can be changed to logon problem.\n",
    "\n",
    "http_info\n",
    "1. Which website do they often browse?\n",
    "2. Are there some user who has the same interests?\n",
    "3. Are there some rush hours that some websites are often been visited?\n",
    "\n",
    "Employees_info\n",
    "1. Which role has the most employees?\n",
    "2. Which role has the longest employment period?\n",
    "3. What is the distribution of employment period?\n",
    "(existing problem)\n",
    "\n",
    "What can we get from column “Domain” and “Email”? \n",
    "\n",
    "\n",
    "1. Any employees who still access the system even after they were no longer employees?\n",
    "2. Are there any PCs accessed by more than one person?\n",
    "3. Which URLs are visited most frequently by the employees?\n",
    "4. Any employees who don't have any http info at all?\n",
    "5. What kind of employees visit use their system after-hours? Classification based on employee roles....\n",
    "\n",
    "\n",
    "\n",
    "\n",
    "If some sites were visited frequently in specific time, were they correlated to any event?\n",
    "Are there some specific systems that are accessed by high privilege employees like VPs?\n",
    "Difference in usage by employee role..\n",
    "What derived variables can be created?\n",
    "\n",
    "\n",
    "\n",
    "\n",
    "\n",
    "http://blog.minitab.com/blog/adventures-in-statistics-2/how-to-identify-the-distribution-of-your-data-using-minitab\n",
    "\n",
    "This can be used to find distribution of data\n",
    "\n",
    "\n",
    "Viz?? Link??\n",
    "\n",
    "\n",
    "\n",
    "\n",
    "\n",
    "\n",
    "\n",
    "\n",
    "\n"
   ]
  },
  {
   "cell_type": "code",
   "execution_count": 46,
   "metadata": {},
   "outputs": [],
   "source": [
    "import numpy as np\n",
    "import matplotlib.pyplot as plt\n",
    "import pandas as pd\n",
    "from  datetime import datetime\n",
    "%matplotlib inline"
   ]
  },
  {
   "cell_type": "code",
   "execution_count": 3,
   "metadata": {},
   "outputs": [],
   "source": [
    "data_dir = \"C:\\\\Users\\\\talha\\\\Documents\\\\DA\\\\DataSets1_9182017\\\\DataSets1_9182017\\\\\""
   ]
  },
  {
   "cell_type": "code",
   "execution_count": 4,
   "metadata": {},
   "outputs": [
    {
     "data": {
      "text/plain": [
       "(849579, 4)"
      ]
     },
     "execution_count": 4,
     "metadata": {},
     "output_type": "execute_result"
    }
   ],
   "source": [
    "logon_df = pd.read_csv(data_dir+\"logon_info.csv\", index_col=0)\n",
    "logon_df.shape"
   ]
  },
  {
   "cell_type": "code",
   "execution_count": 5,
   "metadata": {},
   "outputs": [
    {
     "data": {
      "text/plain": [
       "(65668, 4)"
      ]
     },
     "execution_count": 5,
     "metadata": {},
     "output_type": "execute_result"
    }
   ],
   "source": [
    "dev_df = pd.read_csv(data_dir+\"device_info.csv\", index_col=0)\n",
    "dev_df.shape"
   ]
  },
  {
   "cell_type": "code",
   "execution_count": 6,
   "metadata": {},
   "outputs": [
    {
     "data": {
      "text/plain": [
       "(3451665, 4)"
      ]
     },
     "execution_count": 6,
     "metadata": {},
     "output_type": "execute_result"
    }
   ],
   "source": [
    "http_df = pd.read_csv(data_dir+\"http_info.csv\", index_col=0, header=None, names=['date', 'user', 'pc', 'url'])\n",
    "http_df.shape"
   ]
  },
  {
   "cell_type": "code",
   "execution_count": 7,
   "metadata": {
    "scrolled": true
   },
   "outputs": [
    {
     "data": {
      "text/html": [
       "<div>\n",
       "<style>\n",
       "    .dataframe thead tr:only-child th {\n",
       "        text-align: right;\n",
       "    }\n",
       "\n",
       "    .dataframe thead th {\n",
       "        text-align: left;\n",
       "    }\n",
       "\n",
       "    .dataframe tbody tr th {\n",
       "        vertical-align: top;\n",
       "    }\n",
       "</style>\n",
       "<table border=\"1\" class=\"dataframe\">\n",
       "  <thead>\n",
       "    <tr style=\"text-align: right;\">\n",
       "      <th></th>\n",
       "      <th>date</th>\n",
       "      <th>user</th>\n",
       "      <th>pc</th>\n",
       "      <th>url</th>\n",
       "    </tr>\n",
       "  </thead>\n",
       "  <tbody>\n",
       "    <tr>\n",
       "      <th>{M8H9-W9NL75TH-1322KOLO}</th>\n",
       "      <td>01/04/2010 07:08:47</td>\n",
       "      <td>ACME/AMA0606</td>\n",
       "      <td>PC-1514</td>\n",
       "      <td>http://cnet.com</td>\n",
       "    </tr>\n",
       "    <tr>\n",
       "      <th>{V0E1-R0FE91SC-2381GTDZ}</th>\n",
       "      <td>01/04/2010 07:35:19</td>\n",
       "      <td>ACME/DBM0698</td>\n",
       "      <td>PC-1444</td>\n",
       "      <td>http://force.open.com</td>\n",
       "    </tr>\n",
       "    <tr>\n",
       "      <th>{V7C8-H6KA39YG-3352HMOW}</th>\n",
       "      <td>01/04/2010 07:40:40</td>\n",
       "      <td>ACME/HBF0035</td>\n",
       "      <td>PC-0991</td>\n",
       "      <td>http://tendencystem.org</td>\n",
       "    </tr>\n",
       "    <tr>\n",
       "      <th>{O9P7-D9DL54YQ-9903OMYE}</th>\n",
       "      <td>01/04/2010 07:52:25</td>\n",
       "      <td>ACME/SVC0175</td>\n",
       "      <td>PC-3384</td>\n",
       "      <td>http://bent.cup.org</td>\n",
       "    </tr>\n",
       "    <tr>\n",
       "      <th>{L3J0-E4RF05KN-7341OQVW}</th>\n",
       "      <td>01/04/2010 07:55:50</td>\n",
       "      <td>ACME/CMU0028</td>\n",
       "      <td>PC-4253</td>\n",
       "      <td>http://taxpotato.east.org</td>\n",
       "    </tr>\n",
       "  </tbody>\n",
       "</table>\n",
       "</div>"
      ],
      "text/plain": [
       "                                         date          user       pc  \\\n",
       "{M8H9-W9NL75TH-1322KOLO}  01/04/2010 07:08:47  ACME/AMA0606  PC-1514   \n",
       "{V0E1-R0FE91SC-2381GTDZ}  01/04/2010 07:35:19  ACME/DBM0698  PC-1444   \n",
       "{V7C8-H6KA39YG-3352HMOW}  01/04/2010 07:40:40  ACME/HBF0035  PC-0991   \n",
       "{O9P7-D9DL54YQ-9903OMYE}  01/04/2010 07:52:25  ACME/SVC0175  PC-3384   \n",
       "{L3J0-E4RF05KN-7341OQVW}  01/04/2010 07:55:50  ACME/CMU0028  PC-4253   \n",
       "\n",
       "                                                url  \n",
       "{M8H9-W9NL75TH-1322KOLO}            http://cnet.com  \n",
       "{V0E1-R0FE91SC-2381GTDZ}      http://force.open.com  \n",
       "{V7C8-H6KA39YG-3352HMOW}    http://tendencystem.org  \n",
       "{O9P7-D9DL54YQ-9903OMYE}        http://bent.cup.org  \n",
       "{L3J0-E4RF05KN-7341OQVW}  http://taxpotato.east.org  "
      ]
     },
     "execution_count": 7,
     "metadata": {},
     "output_type": "execute_result"
    }
   ],
   "source": [
    "http_df.head()"
   ]
  },
  {
   "cell_type": "code",
   "execution_count": 8,
   "metadata": {},
   "outputs": [
    {
     "data": {
      "text/html": [
       "<div>\n",
       "<style>\n",
       "    .dataframe thead tr:only-child th {\n",
       "        text-align: right;\n",
       "    }\n",
       "\n",
       "    .dataframe thead th {\n",
       "        text-align: left;\n",
       "    }\n",
       "\n",
       "    .dataframe tbody tr th {\n",
       "        vertical-align: top;\n",
       "    }\n",
       "</style>\n",
       "<table border=\"1\" class=\"dataframe\">\n",
       "  <thead>\n",
       "    <tr style=\"text-align: right;\">\n",
       "      <th></th>\n",
       "      <th>date</th>\n",
       "      <th>user</th>\n",
       "      <th>pc</th>\n",
       "      <th>activity</th>\n",
       "    </tr>\n",
       "    <tr>\n",
       "      <th>id</th>\n",
       "      <th></th>\n",
       "      <th></th>\n",
       "      <th></th>\n",
       "      <th></th>\n",
       "    </tr>\n",
       "  </thead>\n",
       "  <tbody>\n",
       "    <tr>\n",
       "      <th>{Y6O4-A7KC67IN-0899AOZK}</th>\n",
       "      <td>01/04/2010 00:10:37</td>\n",
       "      <td>ACME/KEE0997</td>\n",
       "      <td>PC-1914</td>\n",
       "      <td>Logon</td>\n",
       "    </tr>\n",
       "    <tr>\n",
       "      <th>{O5Y6-O7CJ02JC-6704RWBS}</th>\n",
       "      <td>01/04/2010 00:52:16</td>\n",
       "      <td>ACME/KEE0997</td>\n",
       "      <td>PC-1914</td>\n",
       "      <td>Logoff</td>\n",
       "    </tr>\n",
       "    <tr>\n",
       "      <th>{D2D1-C6EB14QJ-2100RSZO}</th>\n",
       "      <td>01/04/2010 01:17:20</td>\n",
       "      <td>ACME/KEE0997</td>\n",
       "      <td>PC-3363</td>\n",
       "      <td>Logon</td>\n",
       "    </tr>\n",
       "    <tr>\n",
       "      <th>{H9W1-X0MC70BT-6065RPAT}</th>\n",
       "      <td>01/04/2010 01:28:34</td>\n",
       "      <td>ACME/KEE0997</td>\n",
       "      <td>PC-3363</td>\n",
       "      <td>Logoff</td>\n",
       "    </tr>\n",
       "    <tr>\n",
       "      <th>{H3H4-S5AZ00AZ-9560IYHC}</th>\n",
       "      <td>01/04/2010 01:57:30</td>\n",
       "      <td>ACME/BJM0992</td>\n",
       "      <td>PC-3058</td>\n",
       "      <td>Logon</td>\n",
       "    </tr>\n",
       "  </tbody>\n",
       "</table>\n",
       "</div>"
      ],
      "text/plain": [
       "                                         date          user       pc activity\n",
       "id                                                                           \n",
       "{Y6O4-A7KC67IN-0899AOZK}  01/04/2010 00:10:37  ACME/KEE0997  PC-1914    Logon\n",
       "{O5Y6-O7CJ02JC-6704RWBS}  01/04/2010 00:52:16  ACME/KEE0997  PC-1914   Logoff\n",
       "{D2D1-C6EB14QJ-2100RSZO}  01/04/2010 01:17:20  ACME/KEE0997  PC-3363    Logon\n",
       "{H9W1-X0MC70BT-6065RPAT}  01/04/2010 01:28:34  ACME/KEE0997  PC-3363   Logoff\n",
       "{H3H4-S5AZ00AZ-9560IYHC}  01/04/2010 01:57:30  ACME/BJM0992  PC-3058    Logon"
      ]
     },
     "execution_count": 8,
     "metadata": {},
     "output_type": "execute_result"
    }
   ],
   "source": [
    "logon_df.head()"
   ]
  },
  {
   "cell_type": "code",
   "execution_count": 9,
   "metadata": {},
   "outputs": [
    {
     "data": {
      "text/html": [
       "<div>\n",
       "<style>\n",
       "    .dataframe thead tr:only-child th {\n",
       "        text-align: right;\n",
       "    }\n",
       "\n",
       "    .dataframe thead th {\n",
       "        text-align: left;\n",
       "    }\n",
       "\n",
       "    .dataframe tbody tr th {\n",
       "        vertical-align: top;\n",
       "    }\n",
       "</style>\n",
       "<table border=\"1\" class=\"dataframe\">\n",
       "  <thead>\n",
       "    <tr style=\"text-align: right;\">\n",
       "      <th></th>\n",
       "      <th>date</th>\n",
       "      <th>user</th>\n",
       "      <th>pc</th>\n",
       "      <th>activity</th>\n",
       "    </tr>\n",
       "    <tr>\n",
       "      <th>id</th>\n",
       "      <th></th>\n",
       "      <th></th>\n",
       "      <th></th>\n",
       "      <th></th>\n",
       "    </tr>\n",
       "  </thead>\n",
       "  <tbody>\n",
       "    <tr>\n",
       "      <th>{S7A7-Y8QZ65MW-8738SAZP}</th>\n",
       "      <td>01/04/2010 07:12:31</td>\n",
       "      <td>ACME/RES0962</td>\n",
       "      <td>PC-3736</td>\n",
       "      <td>Connect</td>\n",
       "    </tr>\n",
       "    <tr>\n",
       "      <th>{G7A8-G1OB94NR-3006NTXH}</th>\n",
       "      <td>01/04/2010 07:35:40</td>\n",
       "      <td>ACME/BJC0569</td>\n",
       "      <td>PC-2588</td>\n",
       "      <td>Connect</td>\n",
       "    </tr>\n",
       "    <tr>\n",
       "      <th>{R3L8-N0LW95FR-8358LLXS}</th>\n",
       "      <td>01/04/2010 08:00:38</td>\n",
       "      <td>ACME/EMZ0196</td>\n",
       "      <td>PC-1479</td>\n",
       "      <td>Connect</td>\n",
       "    </tr>\n",
       "    <tr>\n",
       "      <th>{I2F1-B5FB51FL-3128HBUL}</th>\n",
       "      <td>01/04/2010 08:02:14</td>\n",
       "      <td>ACME/ZKH0388</td>\n",
       "      <td>PC-1021</td>\n",
       "      <td>Connect</td>\n",
       "    </tr>\n",
       "    <tr>\n",
       "      <th>{P7R6-C5TV18CT-1677DWWM}</th>\n",
       "      <td>01/04/2010 08:20:17</td>\n",
       "      <td>ACME/RES0962</td>\n",
       "      <td>PC-3736</td>\n",
       "      <td>Disconnect</td>\n",
       "    </tr>\n",
       "  </tbody>\n",
       "</table>\n",
       "</div>"
      ],
      "text/plain": [
       "                                         date          user       pc  \\\n",
       "id                                                                     \n",
       "{S7A7-Y8QZ65MW-8738SAZP}  01/04/2010 07:12:31  ACME/RES0962  PC-3736   \n",
       "{G7A8-G1OB94NR-3006NTXH}  01/04/2010 07:35:40  ACME/BJC0569  PC-2588   \n",
       "{R3L8-N0LW95FR-8358LLXS}  01/04/2010 08:00:38  ACME/EMZ0196  PC-1479   \n",
       "{I2F1-B5FB51FL-3128HBUL}  01/04/2010 08:02:14  ACME/ZKH0388  PC-1021   \n",
       "{P7R6-C5TV18CT-1677DWWM}  01/04/2010 08:20:17  ACME/RES0962  PC-3736   \n",
       "\n",
       "                            activity  \n",
       "id                                    \n",
       "{S7A7-Y8QZ65MW-8738SAZP}     Connect  \n",
       "{G7A8-G1OB94NR-3006NTXH}     Connect  \n",
       "{R3L8-N0LW95FR-8358LLXS}     Connect  \n",
       "{I2F1-B5FB51FL-3128HBUL}     Connect  \n",
       "{P7R6-C5TV18CT-1677DWWM}  Disconnect  "
      ]
     },
     "execution_count": 9,
     "metadata": {},
     "output_type": "execute_result"
    }
   ],
   "source": [
    "dev_df.head()"
   ]
  },
  {
   "cell_type": "code",
   "execution_count": 10,
   "metadata": {},
   "outputs": [],
   "source": [
    "logon_df['date'] = pd.to_datetime(logon_df['date'])"
   ]
  },
  {
   "cell_type": "code",
   "execution_count": 54,
   "metadata": {},
   "outputs": [
    {
     "data": {
      "text/plain": [
       "<matplotlib.axes._subplots.AxesSubplot at 0x1870780de48>"
      ]
     },
     "execution_count": 54,
     "metadata": {},
     "output_type": "execute_result"
    },
    {
     "data": {
      "image/png": "[encoded data removed]",
      "text/plain": [
       "<matplotlib.figure.Figure at 0x18707522860>"
      ]
     },
     "metadata": {},
     "output_type": "display_data"
    }
   ],
   "source": [
    "time_logon = logon_df[['date', 'activity']]\n",
    "time_logon = time_logon[time_logon['activity'] == 'Logon']\n",
    "time_logon['date'] = time_logon['date'].apply(lambda x : x.hour)\n",
    "time_logon.plot.hist(bins=24)"
   ]
  },
  {
   "cell_type": "code",
   "execution_count": 55,
   "metadata": {},
   "outputs": [
    {
     "data": {
      "text/plain": [
       "<matplotlib.axes._subplots.AxesSubplot at 0x18707a6b208>"
      ]
     },
     "execution_count": 55,
     "metadata": {},
     "output_type": "execute_result"
    },
    {
     "data": {
      "image/png": "[encoded data removed]",
      "text/plain": [
       "<matplotlib.figure.Figure at 0x187077ec978>"
      ]
     },
     "metadata": {},
     "output_type": "display_data"
    }
   ],
   "source": [
    "time_logon = logon_df[['date', 'activity']]\n",
    "time_logon = time_logon[time_logon['activity'] == 'Logoff']\n",
    "time_logon['date'] = time_logon['date'].apply(lambda x : x.hour)\n",
    "time_logon.plot.hist(bins=24)"
   ]
  },
  {
   "cell_type": "code",
   "execution_count": 94,
   "metadata": {},
   "outputs": [
    {
     "data": {
      "text/plain": [
       "49"
      ]
     },
     "execution_count": 94,
     "metadata": {},
     "output_type": "execute_result"
    }
   ],
   "source": [
    "pd.Timestamp('05/14/2011 05:49:30').minute"
   ]
  },
  {
   "cell_type": "code",
   "execution_count": 7,
   "metadata": {
    "collapsed": true
   },
   "outputs": [],
   "source": []
  },
  {
   "cell_type": "code",
   "execution_count": 36,
   "metadata": {},
   "outputs": [
    {
     "name": "stdout",
     "output_type": "stream",
     "text": [
      "470877\n",
      "378702\n"
     ]
    }
   ],
   "source": [
    "only_logons = logon_df[logon_df['activity'] == 'Logon']\n",
    "total_logons = only_logons.shape[0]\n",
    "total_logoffs = logon_df.shape[0] - only_logons.shape[0]\n",
    "print(total_logons)\n",
    "print(total_logoffs)"
   ]
  },
  {
   "cell_type": "code",
   "execution_count": null,
   "metadata": {},
   "outputs": [],
   "source": []
  },
  {
   "cell_type": "code",
   "execution_count": null,
   "metadata": {},
   "outputs": [],
   "source": []
  },
  {
   "cell_type": "code",
   "execution_count": null,
   "metadata": {
    "collapsed": true
   },
   "outputs": [],
   "source": []
  }
 ],
 "metadata": {
  "kernelspec": {
   "display_name": "Python 3",
   "language": "python",
   "name": "python3"
  }
 },
 "nbformat": 4,
 "nbformat_minor": 2
}
